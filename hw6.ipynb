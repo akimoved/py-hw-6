{
 "cells": [
  {
   "cell_type": "markdown",
   "metadata": {},
   "source": [
    "# Homework 6"
   ]
  },
  {
   "cell_type": "code",
   "execution_count": null,
   "metadata": {},
   "outputs": [],
   "source": [
    "from datetime import datetime\n",
    "from datetime import timedelta"
   ]
  },
  {
   "cell_type": "markdown",
   "metadata": {},
   "source": [
    "## Excercise 1"
   ]
  },
  {
   "cell_type": "code",
   "execution_count": null,
   "metadata": {},
   "outputs": [],
   "source": [
    "mos_times_datestring = 'Wednesday, October 2, 2002'\n",
    "print('The Moscow Times -', mos_times_datestring)\n",
    "print(datetime.strptime(mos_times_datestring, '%A, %B %d, %Y'))\n",
    "\n",
    "guardian_datestring = 'Friday, 11.10.13'\n",
    "print('The Guardian -', guardian_datestring)\n",
    "print(datetime.strptime(guardian_datestring, '%A, %d.%m.%y'))\n",
    "\n",
    "daily_news_datestring = 'Thursday, 18 August 1977'\n",
    "print('Daily News -', daily_news_datestring)\n",
    "print(datetime.strptime(daily_news_datestring, '%A, %d %B %Y'))"
   ]
  },
  {
   "cell_type": "markdown",
   "metadata": {},
   "source": [
    "## Excercise 2"
   ]
  },
  {
   "cell_type": "code",
   "execution_count": null,
   "metadata": {},
   "outputs": [],
   "source": [
    "stream = ['2018-04-02', '2018-02-29',' 2018-19-02']\n",
    "\n",
    "def check_date(datelist):\n",
    "    date_check_list = []\n",
    "    for date in datelist:\n",
    "        try:\n",
    "            datetime.strptime(date, '%Y-%m-%d')\n",
    "            date_check_list.append(True)\n",
    "        except:\n",
    "            date_check_list.append(False)\n",
    "    return date_check_list\n",
    "\n",
    "check_date(stream)"
   ]
  },
  {
   "cell_type": "markdown",
   "metadata": {},
   "source": [
    "## Excercise 3"
   ]
  },
  {
   "cell_type": "code",
   "execution_count": null,
   "metadata": {},
   "outputs": [],
   "source": [
    "def date_range(start_date, end_date):\n",
    "    date_range_list = []\n",
    "    \n",
    "    try:\n",
    "        start_date_datetime = datetime.strptime(start_date, '%Y-%m-%d') # перевод начальной даты в datetime\n",
    "        end_date_datetime = datetime.strptime(end_date, '%Y-%m-%d') # перевод конечной даты в datetime\n",
    "        if start_date_datetime > end_date_datetime: # в случае если дата начала позже даты конца возвращается пустой список\n",
    "            return date_range_list \n",
    "        else:\n",
    "            while start_date_datetime <= end_date_datetime:\n",
    "                date_range_list.append(start_date_datetime.strftime('%Y-%m-%d'))\n",
    "                start_date_datetime += timedelta(days=1) # увеличиваем счетчик (start_date_datetime) на 1 день\n",
    "    \n",
    "    except: # в случае неправильного формата дат сразу возваращется пустой список\n",
    "        pass\n",
    "    \n",
    "    return date_range_list\n",
    "\n",
    "date_range('2021-01-10', '2021-04-21')"
   ]
  },
  {
   "cell_type": "markdown",
   "metadata": {},
   "source": [
    "## Excercise 4\n",
    "```python\n",
    "DEFAULT_USER_COUNT = 3\n",
    "\n",
    "def delete_and_return_last_user(region, default_list=['A100', 'A101', 'A102']):\n",
    "    \"\"\"\n",
    "    Удаляет из списка default_list последнего пользователя\n",
    "    и возвращает ID нового последнего пользователя.\n",
    "    \"\"\"\n",
    "\n",
    "    element_to_delete = default_list[-1]\n",
    "    default_list.remove(element_to_delete)\n",
    "\n",
    "    return default_list[DEFAULT_USER_COUNT-2]\n",
    "\n",
    "delete_and_return_last_user(1) \n",
    "```\n",
    "Ошибки не возникает и при повторном запуске, т.к. функция принимает на вход значение списка `default_list=['A100', 'A101', 'A102']` по умолчанию.\n",
    "\n",
    "Ошибка **<span style=\"color:red\">list index out of range</span>** означает, что элемент списка под искомым номером не существует (список короче модуля искомого номера).\n",
    "\n",
    "При первом запуске функции она возвращает элемент под номером `[DEFAULT_USER_COUNT-2] == [1]` - такой элемент существует.\n",
    "Однако при втором запуске элемент под номером `[1]` уже не существует, т.к. перед этим функция укоротила список на один элемент, оставив в итоге список из одного элемента под номером `[0]`."
   ]
  }
 ],
 "metadata": {
  "kernelspec": {
   "display_name": "Python 3",
   "language": "python",
   "name": "python3"
  },
  "language_info": {
   "codemirror_mode": {
    "name": "ipython",
    "version": 3
   },
   "file_extension": ".py",
   "mimetype": "text/x-python",
   "name": "python",
   "nbconvert_exporter": "python",
   "pygments_lexer": "ipython3",
   "version": "3.8.5"
  }
 },
 "nbformat": 4,
 "nbformat_minor": 4
}
